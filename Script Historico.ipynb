{
 "cells": [
  {
   "cell_type": "markdown",
   "metadata": {},
   "source": [
    "#  Extração de Dados com Python 🐍\n",
    "\n",
    "Estou desenvolvendo o Healtscore da empresa em Power BI, um dos pilares principais é a pesquisa de satisfação dos nossos clientes e colaboradores, utilizamos o Freshserivice que gerencia as ocorrências de tickets. \n",
    "\n",
    "[O Freshservice fornece uma API](https://api.freshservice.com/#intro), onde conseguimos consultar todos os tickets de uma só vez, felicitando a extração com um sistema paginado de no máximo 100 tickets por consulta. \n",
    "A pesquisa de satisfação e as atividades desenvolvidas em cada tickets, não temos um endpoint que consulta diversos tickets de uma só vez.\n",
    "\n",
    "## Solução\n",
    "Desenvolvi um script que lê nassa tabela de tickets já gerada e salva em csv, em seguida realiza um loop rodando para cada ticket uma consulta na API respeitando os rate limite, cria uma coluna onde se armazena o ID do ticket utilizado para fazer a consulta em cada linha da resposta e por fim salva em arquivos csv cada tabela gerada.\n"
   ]
  },
  {
   "cell_type": "code",
   "execution_count": null,
   "metadata": {},
   "outputs": [],
   "source": [
    "import pandas as pd\n",
    "import requests as req\n",
    "import time\n",
    "import json\n"
   ]
  },
  {
   "cell_type": "code",
   "execution_count": null,
   "metadata": {},
   "outputs": [],
   "source": [
    "\n",
    "#Realiza a leitura do arquivo csv\n",
    "TabelaTickets = pd.read_csv(\"tickets.csv\", delimiter=\"|\")\n",
    "token = \"XXXXXXXXXXXXXXXXXXXXXXXXX\"\n",
    "\n",
    "#Funções para facilitar e diminu o codigo no loop \n",
    "def csat(ticket): \n",
    "    return f\"https://grupometarh.freshservice.com/api/v2/tickets/{ticket}/csat_response\"\n",
    "\n",
    "def activities(ticket):\n",
    "    return f\"https://grupometarh.freshservice.com/api/v2/tickets/{ticket}/activities\"\n",
    "\n",
    "TabelaCsat = []\n",
    "TabelaActivities = []\n",
    "x = 1\n",
    "\n",
    "for ticket in TabelaTickets[\"id\"]:\n",
    "\n",
    "    time.sleep(1)\n",
    "    x = x + 1 \n",
    "    resultadoc = 0\n",
    "    resultadoa = 0\n",
    "    \n",
    "    #Realiza a consulta nos endpoint \n",
    "    Respostacsat = req.get(csat(ticket),headers={\"Authorization\": token})\n",
    "    RespostaActi = req.get(activities(ticket),headers={\"Authorization\": token})\n",
    "\n",
    "    if Respostacsat.status_code == 200:\n",
    "       resultadoc = Respostacsat.json().get(\"csat_response\",[]) #retorno da API para cada ticket \n",
    "       resultadoc['Ticket ID'] = ticket #armazena o numero do ticket para cada pesquisq \n",
    "       if resultadoc is not None:\n",
    "            TabelaCsat.append(resultadoc)  #Armazena o resultado puxado em uma lista final para todas as buasca\n",
    "       \n",
    "    \n",
    "    if RespostaActi.status_code ==  200:\n",
    "        resultadoa = RespostaActi.json().get(\"activities\",[]) #Retorna as linhas de todoas atividades de cada tickets\n",
    "        Linhas = len(resultadoa)#Armazenando a quantidade de linhas retornada \n",
    "        FinalLista = len(TabelaActivities) #Busco a quantidade de linha na lista existente \n",
    "           \n",
    "        linha = 0\n",
    "        for linha in range(Linhas): \n",
    "            resultadoa[linha]['Ticket ID'] = ticket #Entra em cada linha retornada e armazena o numero do ticket\n",
    "\n",
    "               \n",
    "        if resultadoa is not None:\n",
    "            TabelaActivities.extend(resultadoa) #Armazena o resultado puxado em uma lista final para todas as buasca\n",
    "    \n",
    "    DFa = pd.DataFrame(TabelaActivities)\n",
    "    DFa.to_csv(\"attivities.csv\")\n",
    "    DFc = pd.DataFrame(TabelaCsat)\n",
    "    DFc.to_csv(\"csat.csv\")\n",
    "   \n",
    " \n",
    "    print(x)\n",
    "\n",
    "\n",
    "\n"
   ]
  },
  {
   "cell_type": "markdown",
   "metadata": {},
   "source": []
  }
 ],
 "metadata": {
  "kernelspec": {
   "display_name": "Python 3",
   "language": "python",
   "name": "python3"
  },
  "language_info": {
   "codemirror_mode": {
    "name": "ipython",
    "version": 3
   },
   "file_extension": ".py",
   "mimetype": "text/x-python",
   "name": "python",
   "nbconvert_exporter": "python",
   "pygments_lexer": "ipython3",
   "version": "3.12.2"
  }
 },
 "nbformat": 4,
 "nbformat_minor": 2
}
